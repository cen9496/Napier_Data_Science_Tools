{
 "cells": [
  {
   "cell_type": "markdown",
   "id": "d56eda14-5a7c-4ce1-be5a-c873e31f464d",
   "metadata": {},
   "source": [
    "# Data science Tools and Ecosystem"
   ]
  },
  {
   "cell_type": "markdown",
   "id": "e84c9661-7455-456e-ad88-2b390a3d3e93",
   "metadata": {},
   "source": [
    "In this notebook, Data Science Tools and Ecosystem are sumarized"
   ]
  },
  {
   "cell_type": "markdown",
   "id": "f08f212a-7789-4cdb-bcd6-4334c98ecdce",
   "metadata": {},
   "source": [
    "Some of the popular languages that Data Scientists use are:\n",
    "\n",
    "1. Python\n",
    "2. R\n",
    "3. SQL"
   ]
  },
  {
   "cell_type": "markdown",
   "id": "9baddcca-3302-47b8-aa4f-c48855c6d012",
   "metadata": {},
   "source": [
    "Some of the popular libraries that Data Scientists use are:\n",
    "\n",
    "1. Pandas in Python\n",
    "2. NumPy in Python\n",
    "3. ggplot in R Studio"
   ]
  },
  {
   "cell_type": "markdown",
   "id": "fb116719-4b7f-4217-8a47-9035467734d4",
   "metadata": {},
   "source": [
    "|Data Science Tools|\n",
    "|--|\n",
    "|Jupyter Notebooks|\n",
    "|Apache Zeppelin|\n",
    "|RStudio|"
   ]
  },
  {
   "cell_type": "markdown",
   "id": "1d6e421b-4a4e-4a8d-b747-3450aca53afa",
   "metadata": {},
   "source": [
    "### Below are a few examples of evaluating arithmetic expressions in Python"
   ]
  },
  {
   "cell_type": "code",
   "execution_count": 6,
   "id": "c09d4960-385b-40be-abd9-4cf4c39cee4e",
   "metadata": {},
   "outputs": [
    {
     "data": {
      "text/plain": [
       "17"
      ]
     },
     "execution_count": 6,
     "metadata": {},
     "output_type": "execute_result"
    }
   ],
   "source": [
    "# This is a simple arithmetic expressioni to multiply, then add integers\n",
    "\n",
    "(3*4)+5"
   ]
  },
  {
   "cell_type": "code",
   "execution_count": 7,
   "id": "570a2f73-098a-4a3e-bc88-554285103f1e",
   "metadata": {},
   "outputs": [
    {
     "data": {
      "text/plain": [
       "3.3333333333333335"
      ]
     },
     "execution_count": 7,
     "metadata": {},
     "output_type": "execute_result"
    }
   ],
   "source": [
    "# This will convert 200 minutes to hours by dividing by 60\n",
    "\n",
    "200/60"
   ]
  },
  {
   "cell_type": "markdown",
   "id": "b4b764f5-12ac-4d23-8f6a-6802db6a3263",
   "metadata": {},
   "source": [
    "*Objectives:*\n",
    "\n",
    "* Understand how APIs work.\n",
    "* List popular Data Science Libraries.\n",
    "* Understand how Jupyter Notebook functions."
   ]
  },
  {
   "cell_type": "markdown",
   "id": "9b3b44e7-0c59-43cf-9a0e-c743ed92dab8",
   "metadata": {},
   "source": [
    "## Author\n",
    "Christopher Napier"
   ]
  }
 ],
 "metadata": {
  "kernelspec": {
   "display_name": "Python 3 (ipykernel)",
   "language": "python",
   "name": "python3"
  },
  "language_info": {
   "codemirror_mode": {
    "name": "ipython",
    "version": 3
   },
   "file_extension": ".py",
   "mimetype": "text/x-python",
   "name": "python",
   "nbconvert_exporter": "python",
   "pygments_lexer": "ipython3",
   "version": "3.12.0"
  }
 },
 "nbformat": 4,
 "nbformat_minor": 5
}
